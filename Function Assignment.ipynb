{
 "cells": [
  {
   "cell_type": "markdown",
   "id": "5693bc84-32a6-4a2a-aafc-27b9b87bf76a",
   "metadata": {},
   "source": [
    "Theory Questions:"
   ]
  },
  {
   "cell_type": "code",
   "execution_count": 1,
   "id": "9c04cf7f-ca36-43af-8eab-393d9db3408b",
   "metadata": {},
   "outputs": [
    {
     "name": "stdout",
     "output_type": "stream",
     "text": [
      "This is a function\n"
     ]
    }
   ],
   "source": [
    "#1. What is the difference between a function and a method in Python?\n",
    "#Functions:\n",
    "#Definition: A function is a block of code that is defined independently and can be called by its name.\n",
    "#Syntax: Functions are defined using the def keyword followed by the function name and parentheses ().\n",
    "def my_function():\n",
    "    print(\"This is a function\")\n",
    "my_function()\n"
   ]
  },
  {
   "cell_type": "code",
   "execution_count": 2,
   "id": "9e9c7e5f-3854-4805-b66e-b169aa8bde46",
   "metadata": {},
   "outputs": [
    {
     "name": "stdout",
     "output_type": "stream",
     "text": [
      "This is a method\n"
     ]
    }
   ],
   "source": [
    "#Methods:\n",
    "#Definition: A method is a function that is associated with an object or a class.\n",
    "#Syntax: Methods are defined within a class using the def keyword, and they take at least one parameter, self, which refers to the instance of the class.\n",
    "class MyClass:\n",
    "    def my_method(self):\n",
    "        print(\"This is a method\")\n",
    "obj = MyClass()\n",
    "obj.my_method()\n"
   ]
  },
  {
   "cell_type": "code",
   "execution_count": 3,
   "id": "cf8bedff-4240-471f-b7c5-35d292d1c049",
   "metadata": {},
   "outputs": [],
   "source": [
    "#2. Explain the concept of function arguments and parameters in Python.\n",
    "\n",
    "#Parameters:\n",
    "#Parameters are the variables listed inside the parentheses in the function definition. They act as placeholders for the values that will be passed into the function when it is called.\n",
    "def my_function(param1, param2):\n",
    "    print(param1, param2)\n"
   ]
  },
  {
   "cell_type": "code",
   "execution_count": 4,
   "id": "54e96b61-7c74-4fcf-b578-d5141953bd6d",
   "metadata": {},
   "outputs": [
    {
     "name": "stdout",
     "output_type": "stream",
     "text": [
      "Hello World\n"
     ]
    }
   ],
   "source": [
    "#Arguments:\n",
    "#Arguments are the actual values passed to the function when it is called. They correspond to the function's parameters.\n",
    "my_function(\"Hello\", \"World\")\n"
   ]
  },
  {
   "cell_type": "raw",
   "id": "1f07e04d-4468-4afc-9d9e-d447a5b7f4e9",
   "metadata": {},
   "source": [
    "#3. What are the different ways to define and call a function in Python?\n",
    "#Defining Functions\n",
    "#Regular Function Definition:\n",
    "#Defined using the def keyword followed by the function name and parentheses.\n",
    "\n",
    "\n",
    "def greet(name):\n",
    "    print(f\"Hello, {name}!\")\n",
    "\n",
    "    #Lambda Functions:\n",
    "#Anonymous functions defined using the lambda keyword. Typically used for small, simple functions.\n",
    "\n",
    "\n",
    "greet = lambda name: f\"Hello, {name}!\"\n",
    "Function within a Function (Nested Functions):\n",
    "Functions defined inside another function.\n",
    "\n",
    "\n",
    "\n",
    "def outer_function(name):\n",
    "    def inner_function():\n",
    "        return f\"Hello, {name}!\"\n",
    "    return inner_function()\n",
    "Function with Default Arguments:\n",
    "Functions with parameters that have default values.\n",
    "\n",
    "\n",
    "def greet(name=\"Guest\"):\n",
    "    print(f\"Hello, {name}!\")\n",
    "Function with Variable-Length Arguments:\n",
    "Functions that accept an arbitrary number of positional (*args) or keyword (**kwargs) arguments.\n",
    "\n",
    "\n",
    "def greet(*names):\n",
    "    for name in names:\n",
    "        print(f\"Hello, {name}!\")\n",
    "\n",
    "def greet(**kwargs):\n",
    "    for key, value in kwargs.items():\n",
    "        print(f\"{key}: {value}\")\n",
    "Calling Functions\n",
    "Regular Function Call:\n",
    "Calling a function by its name followed by parentheses.\n",
    "\n",
    "\n",
    "greet(\"Alice\")\n",
    "Using Positional Arguments:\n",
    "Passing arguments in the same order as the parameters are defined.\n",
    "\n",
    "\n",
    "def add(a, b):\n",
    "    return a + b\n",
    "\n"
   ]
  },
  {
   "cell_type": "code",
   "execution_count": 5,
   "id": "d5afe809-6725-4f92-9c78-8ba51343be75",
   "metadata": {},
   "outputs": [
    {
     "name": "stdout",
     "output_type": "stream",
     "text": [
      "25\n"
     ]
    }
   ],
   "source": [
    "#4. What is the purpose of the `return` statement in a Python function?\n",
    "\n",
    "def square(number):\n",
    "    return number * number\n",
    "\n",
    "result = square(5)\n",
    "print(result)  # Outputs: 25\n"
   ]
  },
  {
   "cell_type": "code",
   "execution_count": 6,
   "id": "33c34e0b-dafc-4720-8502-512b46b44c95",
   "metadata": {},
   "outputs": [
    {
     "name": "stdout",
     "output_type": "stream",
     "text": [
      "1\n",
      "2\n",
      "3\n"
     ]
    }
   ],
   "source": [
    "#5. What are iterators in Python and how do they differ from iterables?\n",
    "#Definition:\n",
    "\n",
    "#An iterable is any Python object capable of returning its members one at a time. Examples include lists, tuples, strings, dictionaries, and sets.\n",
    "\n",
    "#Implementation:\n",
    "\n",
    "#To be iterable, an object must implement the __iter__() method, which returns an iterator.\n",
    "my_list = [1, 2, 3]\n",
    "for item in my_list:\n",
    "    print(item)\n"
   ]
  },
  {
   "cell_type": "code",
   "execution_count": 7,
   "id": "425c55de-6c94-4bf1-b32e-ba5858473c24",
   "metadata": {},
   "outputs": [
    {
     "name": "stdout",
     "output_type": "stream",
     "text": [
      "1\n",
      "2\n",
      "3\n"
     ]
    }
   ],
   "source": [
    "#Iterators\n",
    "\n",
    "#Definition:\n",
    "\n",
    "#An iterator is an object representing a stream of data. It is the object that performs the actual iteration over an iterable.\n",
    "#Implementation:\n",
    "\n",
    "#An iterator must implement two methods: __iter__() and __next__(). The __iter__() method returns the iterator object itself, and the __next__() method returns the next item from the stream of data. When no more items are available, __next__() raises a StopIteration exception.\n",
    "my_list = [1, 2, 3]\n",
    "iterator = iter(my_list)  # Get an iterator from the iterable\n",
    "\n",
    "print(next(iterator))  # Outputs: 1\n",
    "print(next(iterator))  # Outputs: 2\n",
    "print(next(iterator))  # Outputs: 3\n",
    "# next(iterator) would raise StopIteration here\n"
   ]
  },
  {
   "cell_type": "markdown",
   "id": "f09ee65d-88c0-4e32-b738-0936759c0db6",
   "metadata": {},
   "source": [
    "#6. Explain the concept of generators in Python and how they are defined.\n",
    "\n",
    "Generators in Python are a special type of iterator that allow you to create iterators in a more straightforward and concise way. They enable you to iterate over a sequence of values without the need to store the entire sequence in memory at once. This is particularly useful for working with large datasets or streams of data.\n",
    "\n",
    "Key Features of Generators\n",
    "Lazy Evaluation:\n",
    "\n",
    "Generators produce items only when requested, which makes them memory efficient.\n",
    "State Retention:\n",
    "\n",
    "Generators automatically maintain their state between successive calls, making them simpler to write than manually implemented iterators.\n",
    "Single Use:\n",
    "\n",
    "Once a generator has been exhausted (i.e., all items have been iterated over), it cannot be reused.\n",
    "Defining Generators\n",
    "Generators can be defined in two ways:\n",
    "\n",
    "Generator Functions:\n",
    "\n",
    "Defined using a function with at least one yield statement. The yield statement produces a value and pauses the function, saving its state for resumption later.\n",
    "\n",
    "Generator Expressions:\n",
    "\n",
    "Similar to list comprehensions but with parentheses instead of square brackets. They are used for creating generators in a concise way"
   ]
  },
  {
   "cell_type": "raw",
   "id": "e671d527-aa34-4871-a940-9891ec0e05d0",
   "metadata": {},
   "source": [
    "#7. What are the advantages of using generators over regular functions?\n",
    "Using generators in Python offers several advantages over regular functions, particularly when dealing with large datasets or streams of data. Here are the key benefits:\n",
    "\n",
    "\n",
    "1. Memory Efficiency\n",
    "Generators: Yield one item at a time and do not store the entire sequence in memory. This is especially useful for processing large datasets or infinite streams of data.\n",
    "Regular Functions: Typically return entire sequences (like lists), which can consume a significant amount of memory for large datasets.\n",
    "\n",
    "2. Lazy Evaluation\n",
    "Generators: Produce values on-the-fly, only when needed. This allows for efficient computation and resource management.\n",
    "Regular Functions: Compute and return all values at once, potentially performing unnecessary computations if only a part of the data is needed.\n",
    "\n",
    "3. Improved Performance\n",
    "Generators: Often faster to initialize and use since they yield values one at a time without the overhead of creating and storing large data structures.\n",
    "Regular Functions: Can have higher initialization and memory allocation overhead, particularly for large data sets.\n",
    "\n",
    "4. Simplified Code\n",
    "Generators: Can simplify code by managing state automatically and providing a clean, straightforward way to handle iteration.\n",
    "Regular Functions: May require more complex state management and memory handling, particularly for custom iterators or large data processing.\n",
    "\n",
    "\n",
    "Using generators in Python offers several advantages over regular functions, particularly when dealing with large datasets or streams of data. Here are the key benefits:\n",
    "\n",
    "1. Memory Efficiency\n",
    "Generators: Yield one item at a time and do not store the entire sequence in memory. This is especially useful for processing large datasets or infinite streams of data.\n",
    "Regular Functions: Typically return entire sequences (like lists), which can consume a significant amount of memory for large datasets.\n",
    "Example:\n",
    "python\n",
    "Copy code\n",
    "def generate_numbers(n):\n",
    "    for i in range(n):\n",
    "        yield i\n",
    "\n",
    "# Uses very little memory\n",
    "for num in generate_numbers(1000000):\n",
    "    print(num)\n",
    "2. Lazy Evaluation\n",
    "Generators: Produce values on-the-fly, only when needed. This allows for efficient computation and resource management.\n",
    "Regular Functions: Compute and return all values at once, potentially performing unnecessary computations if only a part of the data is needed.\n",
    "Example:\n",
    "python\n",
    "Copy code\n",
    "def infinite_sequence():\n",
    "    num = 0\n",
    "    while True:\n",
    "        yield num\n",
    "        num += 1\n",
    "\n",
    "# Generates values only when requested\n",
    "for num in infinite_sequence():\n",
    "    if num > 10:\n",
    "        break\n",
    "    print(num)\n",
    "3. Improved Performance\n",
    "Generators: Often faster to initialize and use since they yield values one at a time without the overhead of creating and storing large data structures.\n",
    "Regular Functions: Can have higher initialization and memory allocation overhead, particularly for large data sets.\n",
    "4. Simplified Code\n",
    "Generators: Can simplify code by managing state automatically and providing a clean, straightforward way to handle iteration.\n",
    "Regular Functions: May require more complex state management and memory handling, particularly for custom iterators or large data processing.\n",
    "\n",
    "5. Infinite Sequences\n",
    "Generators: Can generate infinite sequences naturally, as they yield items on-the-fly and do not require a predefined end.\n",
    "Regular Functions: Typically unsuitable for infinite sequences since they attempt to return a complete list, which is not feasible for infinite data.\n",
    "\n",
    "6. Enhanced Readability and Maintainability\n",
    "Generators: Make it easy to write concise and readable code for iterative processes, leveraging the yield keyword to manage state and flow.\n",
    "Regular Functions: May require more boilerplate code to achieve the same iterative functionality."
   ]
  },
  {
   "cell_type": "code",
   "execution_count": 9,
   "id": "6986b76e-be45-4b7d-b188-0b938128eda3",
   "metadata": {},
   "outputs": [
    {
     "name": "stdout",
     "output_type": "stream",
     "text": [
      "0\n",
      "1\n",
      "2\n",
      "3\n",
      "4\n",
      "5\n",
      "6\n",
      "7\n",
      "8\n",
      "9\n"
     ]
    }
   ],
   "source": [
    "#example\n",
    "def generate_numbers(n):\n",
    "    for i in range(n):\n",
    "        yield i\n",
    "\n",
    "# Uses very little memory\n",
    "for num in generate_numbers(10):\n",
    "    print(num)\n"
   ]
  },
  {
   "cell_type": "raw",
   "id": "7117ff99-34bb-4f0f-ba6c-0e7789016736",
   "metadata": {},
   "source": [
    "#8. What is a lambda function in Python and when is it typically used?\n",
    "\n",
    "A lambda function in Python is an anonymous, small, and concise function defined using the lambda keyword. Lambda functions are typically used for short, simple operations and are often utilized in places where small functions are needed for a short period of time, such as in functional programming or as arguments to higher-order functions.\n",
    "\n",
    "Key Characteristics of Lambda Functions\n",
    "Anonymous:\n",
    "\n",
    "Lambda functions are not bound to a name, unlike regular functions defined using the def keyword.\n",
    "Concise:\n",
    "\n",
    "Lambda functions are defined in a single line, making them very concise and readable for simple operations.\n",
    "Single Expression:\n",
    "\n",
    "Lambda functions can only contain a single expression and automatically return the result of that expression. They cannot contain multiple statements or assignments.\n",
    "\n",
    "Syntax:\n",
    "\n",
    "lambda arguments: expression\n"
   ]
  },
  {
   "cell_type": "code",
   "execution_count": 10,
   "id": "13a56016-395b-4de9-8ee2-64aece374700",
   "metadata": {},
   "outputs": [
    {
     "name": "stdout",
     "output_type": "stream",
     "text": [
      "5\n"
     ]
    }
   ],
   "source": [
    "#example \n",
    "add = lambda x, y: x + y\n",
    "print(add(2, 3))  # Outputs: 5\n"
   ]
  },
  {
   "cell_type": "raw",
   "id": "81bb510e-0703-4279-bc02-c569da7ea325",
   "metadata": {},
   "source": [
    "#9. Explain the purpose and usage of the `map()` function in Python.\n",
    "\n",
    "The map() function in Python is a built-in function used to apply a given function to all items in an iterable (such as a list, tuple, or set) and return an iterator of the results. It is a convenient way to perform the same operation on each item in a sequence.\n",
    "\n",
    "Purpose of map()\n",
    "Apply a Function to Each Element:\n",
    "\n",
    "map() allows you to apply a specific function to every element of an iterable, transforming each element according to the function.\n",
    "Efficient Processing:\n",
    "\n",
    "It processes elements in a memory-efficient way by returning an iterator instead of generating a complete list of results upfront.\n",
    "Functional Programming:\n",
    "\n",
    "It is a tool often used in functional programming paradigms for its ability to apply functions in a concise and readable manner."
   ]
  },
  {
   "cell_type": "code",
   "execution_count": 11,
   "id": "722de73e-8802-43a1-837e-2b697f536b0a",
   "metadata": {},
   "outputs": [
    {
     "name": "stdout",
     "output_type": "stream",
     "text": [
      "[1, 4, 9, 16, 25]\n"
     ]
    }
   ],
   "source": [
    "#example\n",
    "def square(x):\n",
    "    return x * x\n",
    "\n",
    "numbers = [1, 2, 3, 4, 5]\n",
    "squared_numbers = map(square, numbers)\n",
    "print(list(squared_numbers))  # Outputs: [1, 4, 9, 16, 25]\n"
   ]
  },
  {
   "cell_type": "raw",
   "id": "7bed18f1-e8fb-4c27-98ef-d8f711fd852c",
   "metadata": {},
   "source": [
    "#10. What is the difference between `map()`, `reduce()`, and `filter()` functions in Python?\n",
    "In Python, map(), reduce(), and filter() are functional programming functions that operate on iterables. Each of these functions serves a distinct purpose and is used for different types of operations. Here’s a breakdown of the differences among them:\n",
    "\n",
    "map()\n",
    "Purpose:\n",
    "\n",
    "Transformation: map() applies a given function to each item in an iterable and returns an iterator of the results. It transforms each element of the iterable according to the function provided.\n",
    "\n",
    "reduce()\n",
    "Purpose:\n",
    "\n",
    "Aggregation: reduce() applies a binary function (a function that takes two arguments) cumulatively to the items of an iterable, reducing the iterable to a single value. It processes items in a sequence, accumulating a result.\n",
    "\n",
    "\n",
    "filter()\n",
    "Purpose:\n",
    "\n",
    "Filtering: filter() filters items in an iterable based on a given predicate function. It returns an iterator containing only the items for which the predicate function returns True."
   ]
  },
  {
   "cell_type": "code",
   "execution_count": 12,
   "id": "b3889819-c2a8-41b1-b0de-7bc7a9cf0c2d",
   "metadata": {},
   "outputs": [],
   "source": [
    "#11. Using pen & Paper write the internal mechanism for sum operation using  reduce function on this given list:[47,11,42,13]; \n"
   ]
  },
  {
   "cell_type": "code",
   "execution_count": null,
   "id": "0cf4b630-8fd9-463f-9896-1ac2ad674d9b",
   "metadata": {},
   "outputs": [],
   "source": []
  },
  {
   "cell_type": "markdown",
   "id": "efdbe8e6-04b0-4c91-830d-65e440fbaf99",
   "metadata": {},
   "source": [
    "Practical Questions:"
   ]
  },
  {
   "cell_type": "code",
   "execution_count": 17,
   "id": "4893cdf0-a4f8-42fc-90f8-4fd00e85d9a8",
   "metadata": {},
   "outputs": [],
   "source": [
    "#1. Write a Python function that takes a list of numbers as input and returns the sum of all even numbers in the list.\n",
    "\n",
    "def sum_of_even_numbers(numbers):\n",
    "    return sum(num for num in numbers if num % 2 == 0)\n",
    "\n",
    "\n"
   ]
  },
  {
   "cell_type": "code",
   "execution_count": 20,
   "id": "ec79c464-f497-4e45-bf8f-b8ac1036f52d",
   "metadata": {},
   "outputs": [],
   "source": [
    "#2. Create a Python function that accepts a string and returns the reverse of that string.\n",
    "\n",
    "def reverse_string(s):\n",
    "    return s[::-1]\n"
   ]
  },
  {
   "cell_type": "code",
   "execution_count": 21,
   "id": "15d4b9a6-4197-4b69-b303-8ac8c913fdb7",
   "metadata": {},
   "outputs": [
    {
     "data": {
      "text/plain": [
       "<function __main__.reverse_string(s)>"
      ]
     },
     "execution_count": 21,
     "metadata": {},
     "output_type": "execute_result"
    }
   ],
   "source": [
    "reverse_string"
   ]
  },
  {
   "cell_type": "code",
   "execution_count": 22,
   "id": "d749a03a-9b87-4d95-aed4-1178242306f9",
   "metadata": {},
   "outputs": [
    {
     "name": "stdout",
     "output_type": "stream",
     "text": [
      "olleh\n"
     ]
    }
   ],
   "source": [
    "input_string = \"hello\"\n",
    "reversed_string = reverse_string(input_string)\n",
    "print(reversed_string)  \"\n"
   ]
  },
  {
   "cell_type": "code",
   "execution_count": 32,
   "id": "4e433fe0-c0fb-4867-a3b5-607291ade04c",
   "metadata": {},
   "outputs": [
    {
     "name": "stdout",
     "output_type": "stream",
     "text": [
      "[1, 4, 9, 16, 25]\n"
     ]
    }
   ],
   "source": [
    "#3. Implement a Python function that takes a list of integers and returns a new list containing the squares of each number.\n",
    "\n",
    "input_numbers = [1, 2, 3, 4, 5]\n",
    "squared_numbers = square_numbers(input_numbers)\n",
    "print(squared_numbers)  \n"
   ]
  },
  {
   "cell_type": "code",
   "execution_count": 1,
   "id": "e5ab9390-4fda-4cff-96a8-d3d8b23220f6",
   "metadata": {},
   "outputs": [],
   "source": [
    "#4. Write a Python function that checks if a given number is prime or not from 1 to 200.\n",
    "\n",
    "def is_prime(num):\n",
    "    # Check if the number is within the valid range\n",
    "    if num < 1 or num > 200:\n",
    "        return False\n",
    "    \n",
    "    # Handle special cases\n",
    "    if num in (2, 3):\n",
    "        return True\n",
    "    if num <= 1 or num % 2 == 0:\n",
    "        return False\n",
    "    \n",
    "    # Check for factors from 3 to the square root of num\n",
    "    for i in range(3, int(num**0.5) + 1, 2):\n",
    "        if num % i == 0:\n",
    "            return False\n",
    "\n",
    "    return True\n"
   ]
  },
  {
   "cell_type": "code",
   "execution_count": 3,
   "id": "55ef78a7-077c-40d5-834e-64c07a9180cf",
   "metadata": {},
   "outputs": [
    {
     "name": "stdout",
     "output_type": "stream",
     "text": [
      "True\n",
      "False\n",
      "True\n",
      "False\n"
     ]
    }
   ],
   "source": [
    "# Test cases\n",
    "print(is_prime(2))   # Outputs: True\n",
    "print(is_prime(4))   # Outputs: False\n",
    "print(is_prime(19))  # Outputs: True\n",
    "print(is_prime(200)) # Outputs: False\n"
   ]
  },
  {
   "cell_type": "code",
   "execution_count": 4,
   "id": "44e2b4f6-5560-4be5-ab0d-289ba9bf6aab",
   "metadata": {},
   "outputs": [
    {
     "name": "stdout",
     "output_type": "stream",
     "text": [
      "0\n",
      "1\n",
      "1\n",
      "2\n",
      "3\n",
      "5\n",
      "8\n",
      "13\n",
      "21\n",
      "34\n"
     ]
    }
   ],
   "source": [
    "#5. Create an iterator class in Python that generates the Fibonacci sequence up to a specified number of terms.\n",
    "\n",
    "class FibonacciIterator:\n",
    "    def __init__(self, n_terms):\n",
    "        self.n_terms = n_terms  # Number of terms to generate\n",
    "        self.a, self.b = 0, 1   # Starting values for Fibonacci sequence\n",
    "        self.count = 0          # To keep track of the number of terms generated\n",
    "\n",
    "    def __iter__(self):\n",
    "        return self\n",
    "\n",
    "    def __next__(self):\n",
    "        if self.count >= self.n_terms:\n",
    "            raise StopIteration  # Stop iteration when the specified number of terms is reached\n",
    "        else:\n",
    "            # Generate the next term in the Fibonacci sequence\n",
    "            result = self.a\n",
    "            self.a, self.b = self.b, self.a + self.b\n",
    "            self.count += 1\n",
    "            return result\n",
    "\n",
    "# Example usage:\n",
    "fibonacci_sequence = FibonacciIterator(10)  # Create an iterator for 10 terms\n",
    "for number in fibonacci_sequence:\n",
    "    print(number)\n"
   ]
  },
  {
   "cell_type": "code",
   "execution_count": 5,
   "id": "c728687a-a530-4b4e-8d0e-ee85c2686a83",
   "metadata": {},
   "outputs": [
    {
     "name": "stdout",
     "output_type": "stream",
     "text": [
      "1\n",
      "2\n",
      "4\n",
      "8\n",
      "16\n",
      "32\n"
     ]
    }
   ],
   "source": [
    "#6. Write a generator function in Python that yields the powers of 2 up to a given exponent\n",
    "\n",
    "def powers_of_two(exponent):\n",
    "    \"\"\"Generate powers of 2 up to the given exponent.\"\"\"\n",
    "    for i in range(exponent + 1):\n",
    "        yield 2 ** i\n",
    "\n",
    "# Example usage:\n",
    "for power in powers_of_two(5):\n",
    "    print(power)\n"
   ]
  },
  {
   "cell_type": "raw",
   "id": "0bcf015b-7de1-471a-8479-245efd701024",
   "metadata": {},
   "source": [
    "#7. Implement a generator function that reads a file line by line and yields each line as a string\n",
    "\n",
    "def read_file_lines(file_path):\n",
    "    \"\"\"Generator function that yields each line from the specified file.\"\"\"\n",
    "    with open(file_path, 'r') as file:\n",
    "        for line in file:\n",
    "            yield line.rstrip('\\n')  # Use rstrip to remove the newline character\n",
    "\n",
    "# Example usage:\n",
    "file_path = 'example.txt'  # Replace with your file path\n",
    "for line in read_file_lines(file_path):\n",
    "    print(line)\n"
   ]
  },
  {
   "cell_type": "code",
   "execution_count": 7,
   "id": "a6e2a17e-f009-45a6-bed7-34e5a78b6f2d",
   "metadata": {},
   "outputs": [
    {
     "name": "stdout",
     "output_type": "stream",
     "text": [
      "[(4, 1), (5, 2), (1, 3), (2, 4)]\n"
     ]
    }
   ],
   "source": [
    "#8. Use a lambda function in Python to sort a list of tuples based on the second element of each tuple.\n",
    "\n",
    "# List of tuples\n",
    "tuples_list = [(1, 3), (4, 1), (5, 2), (2, 4)]\n",
    "\n",
    "# Sort the list based on the second element of each tuple\n",
    "sorted_list = sorted(tuples_list, key=lambda x: x[1])\n",
    "\n",
    "print(sorted_list)\n"
   ]
  },
  {
   "cell_type": "code",
   "execution_count": 8,
   "id": "192d51d5-0479-4932-9486-78ce22dedeb7",
   "metadata": {},
   "outputs": [
    {
     "name": "stdout",
     "output_type": "stream",
     "text": [
      "[(4, 1), (5, 2), (1, 3), (2, 4)]\n"
     ]
    }
   ],
   "source": [
    "# List of tuples\n",
    "tuples_list = [(1, 3), (4, 1), (5, 2), (2, 4)]\n",
    "\n",
    "# Sort the list based on the second element of each tuple\n",
    "tuples_list.sort(key=lambda x: x[1])\n",
    "\n",
    "print(tuples_list)\n"
   ]
  },
  {
   "cell_type": "code",
   "execution_count": 9,
   "id": "b256cbf0-22fc-49f3-aba0-3032f18328f6",
   "metadata": {},
   "outputs": [
    {
     "name": "stdout",
     "output_type": "stream",
     "text": [
      "[32.0, 50.0, 68.0, 86.0, 104.0, 122.0]\n"
     ]
    }
   ],
   "source": [
    "#9. Write a Python program that uses `map()` to convert a list of temperatures from Celsius to Fahrenheit\n",
    "\n",
    "# Function to convert Celsius to Fahrenheit\n",
    "def celsius_to_fahrenheit(celsius):\n",
    "    return (celsius * 9/5) + 32\n",
    "\n",
    "# List of temperatures in Celsius\n",
    "celsius_temps = [0, 10, 20, 30, 40, 50]\n",
    "\n",
    "# Use map to convert the list of Celsius temperatures to Fahrenheit\n",
    "fahrenheit_temps = map(celsius_to_fahrenheit, celsius_temps)\n",
    "\n",
    "# Convert the result to a list and print it\n",
    "print(list(fahrenheit_temps))\n"
   ]
  },
  {
   "cell_type": "code",
   "execution_count": 10,
   "id": "5462dd73-ce89-47f5-ba61-842a7e21b24c",
   "metadata": {},
   "outputs": [
    {
     "name": "stdout",
     "output_type": "stream",
     "text": [
      "Hll, Wrld!\n"
     ]
    }
   ],
   "source": [
    "#10. Create a Python program that uses `filter()` to remove all the vowels from a given string.\n",
    "\n",
    "def is_not_vowel(char):\n",
    "    \"\"\"Return True if the character is not a vowel.\"\"\"\n",
    "    return char.lower() not in 'aeiou'\n",
    "\n",
    "def remove_vowels(input_string):\n",
    "    \"\"\"Remove all vowels from the given string.\"\"\"\n",
    "    # Filter out vowels using the is_not_vowel function\n",
    "    filtered_chars = filter(is_not_vowel, input_string)\n",
    "    # Join the filtered characters back into a string\n",
    "    return ''.join(filtered_chars)\n",
    "\n",
    "# Example usage\n",
    "input_string = \"Hello, World!\"\n",
    "result = remove_vowels(input_string)\n",
    "print(result)\n"
   ]
  },
  {
   "cell_type": "code",
   "execution_count": 11,
   "id": "47705213-461d-4699-87f8-2ccebd3f0d97",
   "metadata": {},
   "outputs": [
    {
     "name": "stdout",
     "output_type": "stream",
     "text": [
      "[(34587, 163.8), (98762, 284.0), (77226, 108.85000000000001), (88112, 84.97)]\n"
     ]
    }
   ],
   "source": [
    "#11 \n",
    "\n",
    "#Answer:\n",
    "\n",
    "# List of orders\n",
    "orders = [\n",
    "    [34587, \"Learning Python, Mark Lutz\", 4, 40.95],\n",
    "    [98762, \"Programming Python, Mark Lutz\", 5, 56.80],\n",
    "    [77226, \"Head First Python, Paul Barry\", 3, 32.95],\n",
    "    [88112, \"Einführung in Python3, Bernd Klein\", 3, 24.99]\n",
    "]\n",
    "\n",
    "# Function to process each order\n",
    "process_order = lambda order: (\n",
    "    order[0], \n",
    "    order[2] * order[3] if order[2] * order[3] >= 100 else order[2] * order[3] + 10\n",
    ")\n",
    "\n",
    "# Process all orders\n",
    "processed_orders = list(map(process_order, orders))\n",
    "\n",
    "# Output the result\n",
    "print(processed_orders)\n"
   ]
  },
  {
   "cell_type": "code",
   "execution_count": null,
   "id": "8726b33c-8339-4bf1-b6db-c10eee417737",
   "metadata": {},
   "outputs": [],
   "source": []
  }
 ],
 "metadata": {
  "kernelspec": {
   "display_name": "Python 3 (ipykernel)",
   "language": "python",
   "name": "python3"
  },
  "language_info": {
   "codemirror_mode": {
    "name": "ipython",
    "version": 3
   },
   "file_extension": ".py",
   "mimetype": "text/x-python",
   "name": "python",
   "nbconvert_exporter": "python",
   "pygments_lexer": "ipython3",
   "version": "3.10.8"
  }
 },
 "nbformat": 4,
 "nbformat_minor": 5
}
