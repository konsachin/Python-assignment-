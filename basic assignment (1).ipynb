{
 "cells": [
  {
   "cell_type": "code",
   "execution_count": 1,
   "id": "8cc7d64c-b793-48d4-90fe-005bc6d9e0c9",
   "metadata": {},
   "outputs": [
    {
     "name": "stdin",
     "output_type": "stream",
     "text": [
      "Enter the first number:  12\n",
      "Enter the second number:  15\n",
      "Enter the third number:  20\n"
     ]
    }
   ],
   "source": [
    "#Question 1: \n",
    "    #Write a Python program to determine the largest among three numbers entered by the user.\n",
    "    \n",
    "num1 = float(input(\"Enter the first number: \"))\n",
    "num2 = float(input(\"Enter the second number: \"))\n",
    "num3 = float(input(\"Enter the third number: \"))"
   ]
  },
  {
   "cell_type": "code",
   "execution_count": 2,
   "id": "0db5be24-3426-4e93-8a0e-8ead74d40afb",
   "metadata": {},
   "outputs": [
    {
     "name": "stdin",
     "output_type": "stream",
     "text": [
      "Enter a year:  2023\n"
     ]
    },
    {
     "name": "stdout",
     "output_type": "stream",
     "text": [
      "2023 is not a leap year.\n"
     ]
    }
   ],
   "source": [
    "#Q2. answer\n",
    "\n",
    "def is_leap_year(year):\n",
    "    # Leap years are divisible by 4\n",
    "    # But if a year is divisible by 100, it's not a leap year unless it's also divisible by 400\n",
    "    if (year % 4 == 0 and year % 100 != 0) or (year % 400 == 0):\n",
    "        return True\n",
    "    else:\n",
    "        return False\n",
    "\n",
    "# Taking input from the user\n",
    "year = int(input(\"Enter a year: \"))\n",
    "\n",
    "# Checking if the year is a leap year and printing the result\n",
    "if is_leap_year(year):\n",
    "    print(year, \"is a leap year.\")\n",
    "else:\n",
    "    print(year, \"is not a leap year.\")\n"
   ]
  },
  {
   "cell_type": "code",
   "execution_count": 3,
   "id": "3c3d8c7a-dc2c-41bb-898c-775f0772a3dd",
   "metadata": {},
   "outputs": [
    {
     "name": "stdout",
     "output_type": "stream",
     "text": [
      "1\n",
      "22\n",
      "333\n",
      "4444\n",
      "55555\n"
     ]
    }
   ],
   "source": [
    "#Q3. answer\n",
    "def print_pattern(rows):\n",
    "    for i in range(1, rows + 1):\n",
    "        for j in range(1, i + 1):\n",
    "            print(i, end=\"\")\n",
    "        print()\n",
    "\n",
    "# Number of rows in the pattern\n",
    "rows = 5\n",
    "\n",
    "# Call the function to print the pattern\n",
    "print_pattern(rows)\n"
   ]
  },
  {
   "cell_type": "code",
   "execution_count": 4,
   "id": "5d681b1a-e9c7-4a26-b787-2bc4efe99519",
   "metadata": {},
   "outputs": [
    {
     "name": "stdout",
     "output_type": "stream",
     "text": [
      "*\n",
      "**\n",
      "***\n",
      "****\n",
      "*****\n"
     ]
    }
   ],
   "source": [
    "#Q4. ans\n",
    "def draw_star(size):\n",
    "    for i in range(size):\n",
    "        print('*' * (i + 1))\n",
    "\n",
    "# Size of the star (number of rows)\n",
    "size = 5\n",
    "\n",
    "# Call the function to draw the star\n",
    "draw_star(size)\n"
   ]
  },
  {
   "cell_type": "code",
   "execution_count": 5,
   "id": "3a69cd62-1e04-4c1a-a541-cbf9ad346a80",
   "metadata": {},
   "outputs": [
    {
     "name": "stdout",
     "output_type": "stream",
     "text": [
      "*****\n",
      " ****\n",
      "  ***\n",
      "   **\n",
      "    *\n"
     ]
    }
   ],
   "source": [
    "#Q5.ans\n",
    "def draw_right_side_star(size):\n",
    "    for i in range(size):\n",
    "        print(' ' * i + '*' * (size - i))\n",
    "\n",
    "# Size of the right-sided triangle (number of rows)\n",
    "size = 5\n",
    "\n",
    "# Call the function to draw the right-sided triangle\n",
    "draw_right_side_star(size)\n"
   ]
  },
  {
   "cell_type": "code",
   "execution_count": 6,
   "id": "49a251df-fe98-4483-b4dd-2d0fdfc66dbe",
   "metadata": {},
   "outputs": [
    {
     "name": "stdout",
     "output_type": "stream",
     "text": [
      "1\n",
      "2\n",
      "Fizz\n",
      "4\n",
      "Buzz\n",
      "Fizz\n",
      "7\n",
      "8\n",
      "Fizz\n",
      "Buzz\n",
      "11\n",
      "Fizz\n",
      "13\n",
      "14\n",
      "FizzBuzz\n",
      "16\n",
      "17\n",
      "Fizz\n",
      "19\n",
      "Buzz\n",
      "Fizz\n",
      "22\n",
      "23\n",
      "Fizz\n",
      "Buzz\n",
      "26\n",
      "Fizz\n",
      "28\n",
      "29\n",
      "FizzBuzz\n",
      "31\n",
      "32\n",
      "Fizz\n",
      "34\n",
      "Buzz\n",
      "Fizz\n",
      "37\n",
      "38\n",
      "Fizz\n",
      "Buzz\n",
      "41\n",
      "Fizz\n",
      "43\n",
      "44\n",
      "FizzBuzz\n",
      "46\n",
      "47\n",
      "Fizz\n",
      "49\n",
      "Buzz\n",
      "Fizz\n",
      "52\n",
      "53\n",
      "Fizz\n",
      "Buzz\n",
      "56\n",
      "Fizz\n",
      "58\n",
      "59\n",
      "FizzBuzz\n",
      "61\n",
      "62\n",
      "Fizz\n",
      "64\n",
      "Buzz\n",
      "Fizz\n",
      "67\n",
      "68\n",
      "Fizz\n",
      "Buzz\n",
      "71\n",
      "Fizz\n",
      "73\n",
      "74\n",
      "FizzBuzz\n",
      "76\n",
      "77\n",
      "Fizz\n",
      "79\n",
      "Buzz\n",
      "Fizz\n",
      "82\n",
      "83\n",
      "Fizz\n",
      "Buzz\n",
      "86\n",
      "Fizz\n",
      "88\n",
      "89\n",
      "FizzBuzz\n",
      "91\n",
      "92\n",
      "Fizz\n",
      "94\n",
      "Buzz\n",
      "Fizz\n",
      "97\n",
      "98\n",
      "Fizz\n",
      "Buzz\n"
     ]
    }
   ],
   "source": [
    "#Question 6: Write a program that prints the numbers 1 to 100. However, for multiples of 3, print \"Fizz\" instead of the number. For multiples of 5, print \"Buzz\". For numbers that are multiples of both 3 and 5, print \"FizzBuzz\".\n",
    "def fizz_buzz():\n",
    "    for i in range(1, 101):\n",
    "        if i % 3 == 0 and i % 5 == 0:\n",
    "            print(\"FizzBuzz\")\n",
    "        elif i % 3 == 0:\n",
    "            print(\"Fizz\")\n",
    "        elif i % 5 == 0:\n",
    "            print(\"Buzz\")\n",
    "        else:\n",
    "            print(i)\n",
    "\n",
    "# Call the function to print the numbers according to the FizzBuzz rules\n",
    "fizz_buzz()\n"
   ]
  },
  {
   "cell_type": "code",
   "execution_count": 7,
   "id": "bd012283-81f7-4520-afe5-615f01dd233a",
   "metadata": {},
   "outputs": [
    {
     "name": "stdin",
     "output_type": "stream",
     "text": [
      "Enter the number of terms in the Fibonacci sequence:  0 1 1 2 3 5 8 13 21 34\n"
     ]
    },
    {
     "ename": "ValueError",
     "evalue": "invalid literal for int() with base 10: '0 1 1 2 3 5 8 13 21 34'",
     "output_type": "error",
     "traceback": [
      "\u001b[0;31m---------------------------------------------------------------------------\u001b[0m",
      "\u001b[0;31mValueError\u001b[0m                                Traceback (most recent call last)",
      "Cell \u001b[0;32mIn[7], line 13\u001b[0m\n\u001b[1;32m     10\u001b[0m     \u001b[38;5;28;01mreturn\u001b[39;00m fib_sequence\n\u001b[1;32m     12\u001b[0m \u001b[38;5;66;03m# Number of terms in the Fibonacci sequence\u001b[39;00m\n\u001b[0;32m---> 13\u001b[0m n \u001b[38;5;241m=\u001b[39m \u001b[38;5;28;43mint\u001b[39;49m\u001b[43m(\u001b[49m\u001b[38;5;28;43minput\u001b[39;49m\u001b[43m(\u001b[49m\u001b[38;5;124;43m\"\u001b[39;49m\u001b[38;5;124;43mEnter the number of terms in the Fibonacci sequence: \u001b[39;49m\u001b[38;5;124;43m\"\u001b[39;49m\u001b[43m)\u001b[49m\u001b[43m)\u001b[49m\n\u001b[1;32m     15\u001b[0m \u001b[38;5;66;03m# Calling the function and printing the Fibonacci sequence\u001b[39;00m\n\u001b[1;32m     16\u001b[0m fib_sequence \u001b[38;5;241m=\u001b[39m fibonacci(n)\n",
      "\u001b[0;31mValueError\u001b[0m: invalid literal for int() with base 10: '0 1 1 2 3 5 8 13 21 34'"
     ]
    }
   ],
   "source": [
    "#Question 8: Write a Python program to print the Fibonacci sequence up to n terms. The Fibonacci series is a sequence of numbers where each number is the sum of the two preceding ones, usually starting with 0 and 1.\n",
    "def fibonacci(n):\n",
    "    fib_sequence = [0, 1]  # Starting with the first two terms of the Fibonacci sequence\n",
    "\n",
    "    # Generating Fibonacci sequence up to n terms\n",
    "    for i in range(2, n):\n",
    "        next_fib = fib_sequence[i - 1] + fib_sequence[i - 2]\n",
    "        fib_sequence.append(next_fib)\n",
    "\n",
    "    return fib_sequence\n",
    "\n",
    "# Number of terms in the Fibonacci sequence\n",
    "n = int(input(\"Enter the number of terms in the Fibonacci sequence: \"))\n",
    "\n",
    "# Calling the function and printing the Fibonacci sequence\n",
    "fib_sequence = fibonacci(n)\n",
    "print(\"Fibonacci sequence up to\", n, \"terms:\")\n",
    "print(fib_sequence)\n"
   ]
  },
  {
   "cell_type": "code",
   "execution_count": null,
   "id": "beadd610-8273-4d3e-a977-5c04f4a772aa",
   "metadata": {},
   "outputs": [],
   "source": []
  }
 ],
 "metadata": {
  "kernelspec": {
   "display_name": "Python 3 (ipykernel)",
   "language": "python",
   "name": "python3"
  },
  "language_info": {
   "codemirror_mode": {
    "name": "ipython",
    "version": 3
   },
   "file_extension": ".py",
   "mimetype": "text/x-python",
   "name": "python",
   "nbconvert_exporter": "python",
   "pygments_lexer": "ipython3",
   "version": "3.10.8"
  }
 },
 "nbformat": 4,
 "nbformat_minor": 5
}
